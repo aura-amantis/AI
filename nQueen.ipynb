#code_to_solve_n_Queens_problem

def valid(board, row, col, n):
    
    for i in range(row):
        if board[i][col] == 1:
            return False
        if col-row+i >= 0 and board[i][col-row+i] == 1:
            return False
        if col+row-i < n and board[i][col+row-i] == 1:
            return False
    return True

def n_queens(n, queens):
    #an empty n x n chessboard
    board = [[0 for i in range(n)] for j in range(n)]
    for i in range(n):
        board[i][queens[i]-1] = 1
        
    #using_backtracking
    def backtrack(row):
        if row == n:
            return True
        for col in range(n):
            if valid(board, row, col, n):
                board[row][col] = 1
                if backtrack(row+1):
                    return True
                board[row][col] = 0
        return False
   
    backtrack(0)
    
    for row in range(n):
        for col in range(n):
            if board[row][col] == 1:
                print("*", end=" ")
            else:
                print("_", end=" ")
        print()

with open("i.txt") as file:
    n = int(file.readline())
    queens = list(map(int, file.readline().split()))

n_queens(n, queens)    
