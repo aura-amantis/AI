/* Code for Support Vector Machine */

import csv
import random
from sklearn.svm import SVC
from sklearn.metrics import accuracy_score
from sklearn.model_selection import train_test_split

with open('iris.csv', 'r') as file:
    reader = csv.reader(file)
    headers = next(reader)
    data = list(reader)

X = []
y = []
for row in data:
    X.append([float(row[0]), float(row[1]), float(row[2]), float(row[3])])
    y.append(row[4])

X_train, X_test, y_train, y_test = train_test_split(X, y, test_size=0.2, random_state=42)

svm_model = SVC(kernel='linear')
svm_model.fit(X_train, y_train)

y_pred = svm_model.predict(X_test)

accuracy = accuracy_score(y_test, y_pred)
print("Accuracy:", accuracy)

sample_data = [5.1, 3.5, 1.4, 0.2]
predicted_species = svm_model.predict([sample_data])
print("Predicted Species:", predicted_species[0])
