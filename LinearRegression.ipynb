#Code to implement Linear Regression

import pandas as pd
from sklearn.model_selection import train_test_split
from sklearn.linear_model import LinearRegression
from sklearn.metrics import mean_squared_error

data = pd.read_csv('/Users/tishajain/Downloads/Real_Estate_Valuation_Dataset_UCI.csv')   # your csv file

features = ['X1 transaction date', 'X2 house age', 'X3 distance to the nearest MRT station', 'X4 number of convenience stores', 'X5 latitude', 'X6 longitude']
target = 'Y house price of unit area'
X = data[features]
y = data[target]

X_train, X_test, y_train, y_test = train_test_split(X, y, test_size=0.2, random_state=42)

model = LinearRegression()
model.fit(X_train, y_train)

y_pred = model.predict(X_test)

rmse = mean_squared_error(y_test, y_pred, squared=False)
print('Root Mean Square Error (RMSE):', rmse)

test_attributes = [2013.250, 20, 1000, 2, 24.98, 121.54]
predicted_price = model.predict([test_attributes])[0]
print('Predicted house price for test attributes:', predicted_price)
